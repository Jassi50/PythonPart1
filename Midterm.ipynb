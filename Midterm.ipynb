{
 "cells": [
  {
   "cell_type": "code",
   "execution_count": 1,
   "id": "52ff6ab1-55d3-4052-aeb3-de42619dd1b7",
   "metadata": {},
   "outputs": [],
   "source": [
    "from cs103 import *\n",
    "from enum import Enum\n",
    "from typing import Optional"
   ]
  },
  {
   "cell_type": "markdown",
   "id": "b572b133-15d1-480b-a478-9b4dcc3f39b5",
   "metadata": {},
   "source": [
    "## Problem 1\n",
    "\n",
    "Design a data definition to represent one of the Health Authorities in British Columbia, which may be Fraser Health, Interior Health, Vancouver Coastal Health, Island Health, or Northern Health.\n",
    "\n",
    "You must follow the How to Design Data Definitions recipe."
   ]
  },
  {
   "cell_type": "code",
   "execution_count": 2,
   "id": "d07bbfc7-ee9d-4619-a5c0-a7de02bafeb2",
   "metadata": {},
   "outputs": [],
   "source": [
    "# your solution goes here\n",
    "HealthAuthority = Enum('HealthAuthority', ['fh', 'inh', 'vch', 'ish', 'nh'])\n",
    "# interp. One of the 5 Health Authorities in British Columbia: Fraser Health('fh'), Interior Health('inh'), Vancouver Coastal Health('vch'), Island Health('ish'), or \n",
    "# Northern Health('nh')\n",
    "# Examples are redundant for enumerations.\n",
    "\n",
    "#template based on Enumeration\n",
    "@typecheck\n",
    "def fn_for_health_authority(ha: HealthAuthority) -> ...:\n",
    "    if (ha == HealthAuthority.fh):\n",
    "        return ...\n",
    "    elif (ha == HealthAuthority.inh):\n",
    "        return ...\n",
    "    elif (ha == HealthAuthority.vch):\n",
    "        return ...\n",
    "    elif (ha == HealthAuthority.ish):\n",
    "        return ...\n",
    "    elif (ha == HealthAuthority.nh):\n",
    "        return ..."
   ]
  },
  {
   "cell_type": "markdown",
   "id": "394484d0-c7ae-48b0-b033-093f723db278",
   "metadata": {},
   "source": [
    "## Problem 2\n",
    "\n",
    "Using the data definition that you designed in Problem 1, design a function that takes a health authority and determines whether Vancouver is within the boundary of the health authority.\n",
    "\n",
    "You must follow the How to Design Functions recipe."
   ]
  },
  {
   "cell_type": "code",
   "execution_count": 3,
   "id": "46e7b750-1e96-4237-8d1d-f43e05811d2f",
   "metadata": {},
   "outputs": [
    {
     "name": "stdout",
     "output_type": "stream",
     "text": [
      "\u001b[92m5 of 5 tests passed\u001b[0m\n"
     ]
    }
   ],
   "source": [
    "# your solution goes here\n",
    "def is_vancouver(ha: HealthAuthority) -> bool:\n",
    "    \"\"\"\n",
    "    returns True if Vancouver is within the boundary of the health authority\n",
    "    \"\"\"\n",
    "    # return True #stub\n",
    "    # template from HealthAuthority\n",
    "    \n",
    "    if (ha == HealthAuthority.fh):\n",
    "        return False\n",
    "    elif (ha == HealthAuthority.inh):\n",
    "        return False\n",
    "    elif (ha == HealthAuthority.vch):\n",
    "        return True\n",
    "    elif (ha == HealthAuthority.ish):\n",
    "        return False\n",
    "    elif (ha == HealthAuthority.nh):\n",
    "        return False\n",
    "\n",
    "start_testing()\n",
    "\n",
    "expect(is_vancouver(HealthAuthority.fh), False)\n",
    "expect(is_vancouver(HealthAuthority.inh), False)\n",
    "expect(is_vancouver(HealthAuthority.vch), True)\n",
    "expect(is_vancouver(HealthAuthority.ish), False)\n",
    "expect(is_vancouver(HealthAuthority.nh), False)\n",
    "\n",
    "summary()"
   ]
  },
  {
   "cell_type": "markdown",
   "id": "294315a6-da48-4188-be0d-05ca977bd1c4",
   "metadata": {},
   "source": [
    "## Problem 3\n",
    "\n",
    "Imagine that there is a sensor on University Boulevard that tracks the number of people who commute to UBC via bicycle every day. Sometimes, the sensor malfunctions and there is no reading for the day.\n",
    "\n",
    "Design a data definition to represent the sensor's reading, which for a particular day may be the number of people who commuted to UBC via bicycle or may be missing.\n",
    "\n",
    "You must follow the How to Design Data Definitions recipe."
   ]
  },
  {
   "cell_type": "code",
   "execution_count": 4,
   "id": "e8d8ed8d-dfdc-4e91-9ae5-825f71ace3d2",
   "metadata": {},
   "outputs": [],
   "source": [
    "# your solution goes here\n",
    "BicycleCommuters = Optional[int] # in range >=0\n",
    "# interp. A sensor's reading of how many people commuted to UBC via bicycle on a particular day, or if the sensor has malfunctioned (None)\n",
    "\n",
    "BC0 = None\n",
    "BC5 = 5\n",
    "BC100 = 100\n",
    "\n",
    "@typecheck\n",
    "# template based on One-Of (2 cases), Atomic Distinct, and Atomic Non-Distinct\n",
    "def fn_for_bicycle_commuters(bc: BicycleCommuters) -> ...:\n",
    "    if bc is None:\n",
    "        return ...\n",
    "    else: \n",
    "        return ... (bc)"
   ]
  },
  {
   "cell_type": "markdown",
   "id": "83f9d955-c21e-44a0-b989-159fe3115303",
   "metadata": {},
   "source": [
    "## Problem 4\n",
    "\n",
    "Using the data definition that you design in Problem 3, design a function that takes a BicycleCommuters and creates a description (as a string) of the data. You may choose what description to create as long as your examples are consistent with your function definition.\n",
    "\n",
    "Note that you can convert an integer to a string using the str() function. For example: str(4) returns \"4\".\n",
    "\n",
    "You must follow the How to Design Functions recipe."
   ]
  },
  {
   "cell_type": "code",
   "execution_count": 5,
   "id": "0c8fd12e-9d5d-4f52-939f-36c162b5299b",
   "metadata": {},
   "outputs": [
    {
     "name": "stdout",
     "output_type": "stream",
     "text": [
      "\u001b[92m4 of 4 tests passed\u001b[0m\n"
     ]
    }
   ],
   "source": [
    "# your solution goes here\n",
    "@typecheck\n",
    "def bicycle_commuters_description(bcd: BicycleCommuters) -> str:\n",
    "    \"\"\"\n",
    "    returns a message stating how many people commuted to UBC via bicycle on a particular day, or if the sensor malfunctioned\n",
    "    \"\"\"\n",
    "    #return \"\" # stub\n",
    "    #template from BicycleCommuters\n",
    "    \n",
    "    if bcd is None:\n",
    "        return \"The number of people commuting to UBC via bicyle today was unknown, because the sensor has malfunctioned\"\n",
    "    else: \n",
    "        return \"The number of people commuting to UBC via bicyle today was \" + str(bcd)\n",
    "    \n",
    "start_testing()\n",
    "\n",
    "expect(bicycle_commuters_description(0), \"The number of people commuting to UBC via bicyle today was 0\")\n",
    "expect(bicycle_commuters_description(5), \"The number of people commuting to UBC via bicyle today was 5\")\n",
    "expect(bicycle_commuters_description(100), \"The number of people commuting to UBC via bicyle today was 100\")\n",
    "expect(bicycle_commuters_description(None), \"The number of people commuting to UBC via bicyle today was unknown, because the sensor has malfunctioned\")\n",
    "\n",
    "summary()"
   ]
  },
  {
   "cell_type": "code",
   "execution_count": null,
   "id": "5cc513d7-237a-422b-8f82-0837d18ee103",
   "metadata": {},
   "outputs": [],
   "source": [
    "# NOTE: You should not be able to edit this cell. Just run it to start the process of submiting your code.\n",
    "from cs103 import submit\n",
    "\n",
    "COURSE = 114182\n",
    "ASSIGNMENT = 1339407\n",
    "\n",
    "submit(COURSE, ASSIGNMENT)\n",
    "\n",
    "# If your submission fails when you run this cell, submit your work by downloading your files and \n",
    "# uploading them to Canvas. You can learn how on the page \"How to submit your Jupyter notebook\" on our \n",
    "# Canvas site."
   ]
  }
 ],
 "metadata": {
  "kernelspec": {
   "display_name": "Python 3 (ipykernel)",
   "language": "python",
   "name": "python3"
  },
  "language_info": {
   "codemirror_mode": {
    "name": "ipython",
    "version": 3
   },
   "file_extension": ".py",
   "mimetype": "text/x-python",
   "name": "python",
   "nbconvert_exporter": "python",
   "pygments_lexer": "ipython3",
   "version": "3.10.9"
  }
 },
 "nbformat": 4,
 "nbformat_minor": 5
}
