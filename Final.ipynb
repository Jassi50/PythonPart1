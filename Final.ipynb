{
 "cells": [
  {
   "cell_type": "code",
   "execution_count": 1,
   "metadata": {},
   "outputs": [],
   "source": [
    "from cs103 import *"
   ]
  },
  {
   "cell_type": "markdown",
   "metadata": {},
   "source": [
    "## Introduction to Systematic Program Design in Python Part 1 Project\n",
    "\n",
    "You will complete two steps in this project.\n",
    "\n",
    "### Step 1\n",
    "\n",
    "Below is a table of information on government grants provided to charitable/community organizations from British Columbia lottery funding. You are going to build on the CommunityGrant data definition (given below) that is appropriate to store one row of information from this table in order to create a data type that can store an arbitrary number of community grants. **Design a data definition to represent an arbitrary number of community grants.** Remember to follow the HtDD recipe.\n",
    "\n",
    "Note: the CommunityGrant type is based on the information about gaming grants in BC between April 1, 2020 and June 30, 2020.\n",
    "\n",
    "|City|Organization|Grant Type|Grant Sector|Grant Subsector|Payment Amount|\n",
    "|---|---|---|---|---|---|\n",
    "|Abbotsford | Abbotsford Agrifair |\tCommunity Gaming Grant | Arts and Culture | Fair - Agriculture\t| 80000|\n",
    "|Abbotsford | Abbotsford Soccer Association|\tCommunity Gaming Grant | Sport | Soccer | 100000|\n",
    "|Abbotsford | Abbotsford Falcons Football Association |\tCommunity Gaming Grant | Sport | Football, Rugby | 27000|\n",
    "|Abbotsford | Abbotsford International Airshow Society | Community Gaming Grant | Arts and Culture | Festival\t| 70000|\n",
    "\n",
    "\n",
    "Source: DataBC. https://catalogue.data.gov.bc.ca/dataset/gaming-grants-paid-to-community-organizations/resource/7281e8ca-b649-4af9-b812-2a3e0bf8e4be (accessed: July 27, 2021) \n",
    "\n",
    "### Step 2\n",
    "\n",
    "**Design a function that takes a list of community grants and finds the name of the sector (e.g. \"Sport\", or \"Arts and Culture\") that received the largest grant. If two or more are tied, return the first one.** Remember to follow the HtDF recipe and to design helper functions when necessary.\n",
    "\n",
    "Hints:\n",
    "1. You may assume that the input list is not empty. (In that case, be sure to *state* that assumption in your function's purpose! Otherwise callers of your function may think they can pass in an empty list.)\n",
    "2. You may want to design your loop to find the *whole* grant with the largest dollar value. Once you've done that, is there a way to get just the sector's name after the loop?"
   ]
  },
  {
   "cell_type": "code",
   "execution_count": 2,
   "metadata": {},
   "outputs": [],
   "source": [
    "from typing import NamedTuple, List\n",
    "\n",
    "CommunityGrant = NamedTuple('CommunityGrant', [('city', str),      \n",
    "                                               ('org', str),   \n",
    "                                               ('type', str), \n",
    "                                               ('sec', str),    \n",
    "                                               ('subsec', str),      \n",
    "                                               ('amt', int)])     # in range[0, ...)\n",
    "# interp. community gaming grant data from BC. includes the city, organization ('org'), grant type ('type'),\n",
    "#         grant sector ('sec'), grant subsector ('subsec'), and payment amount ('amt') in CAD\n",
    "AGRIFAIR = CommunityGrant(\"Abbotsford\", \n",
    "                          \"Abbotsford Agrifair\", \n",
    "                          \"Community Gaming Grant\", \n",
    "                          \"Arts and Culture\", \n",
    "                          \"Fair - Agriculture\", \n",
    "                          80000)\n",
    "BMX = CommunityGrant(\"Abbotsford\", \n",
    "                     \"Abbotsford Soccer Association\", \n",
    "                     \"Community Gaming Grant\", \n",
    "                     \"Sport\", \n",
    "                     \"Soccer\", \n",
    "                     10000)\n",
    "FALCONS = CommunityGrant(\"Abbotsford\", \n",
    "                         \"Abbotsford Falcons Football Association\", \n",
    "                         \"Community Gaming Grant\", \n",
    "                         \"Sport\", \n",
    "                         \"Football, Rugby\", \n",
    "                         27000)\n",
    "AIRSHOW = CommunityGrant(\"Abbotsford\", \n",
    "                         \"Abbotsford International Airshow Society\", \n",
    "                         \"Community Gaming Grant\", \n",
    "                         \"Arts and Culture\", \n",
    "                         \"Festival\", \n",
    "                         70000)\n",
    "\n",
    "# template based on compound\n",
    "@typecheck\n",
    "def fn_for_community_grant(cg: CommunityGrant) -> ...:\n",
    "    return ...(cg.city,\n",
    "               cg.org,\n",
    "               cg.type,\n",
    "               cg.sec,\n",
    "               cg.subsec,\n",
    "               cg.amt)\n"
   ]
  },
  {
   "cell_type": "code",
   "execution_count": 4,
   "metadata": {},
   "outputs": [
    {
     "name": "stdout",
     "output_type": "stream",
     "text": [
      "\u001b[92m5 of 5 tests passed\u001b[0m\n"
     ]
    }
   ],
   "source": [
    "# use this cell for your solution\n",
    "## assume CommunityGrant is as defined above\n",
    "\n",
    "# List[CommunityGrant]\n",
    "# interp. a list of community grants\n",
    "\n",
    "L0 = []\n",
    "L1 = [AGRIFAIR, BMX, FALCONS, AIRSHOW]\n",
    "L2 = [BMX,FALCONS]\n",
    "L3 = [AGRIFAIR, AGRIFAIR, BMX, FALCONS, AIRSHOW]\n",
    "\n",
    "@typecheck\n",
    "# template based on arbitrary-sized and reference rule\n",
    "def fn_for_locg(locg: List[CommunityGrant]) -> ...:\n",
    "    # description of the accumulator\n",
    "    acc = ... # type: ...\n",
    "    for cg in locg:\n",
    "        acc = ...(fn_for_community_grant(cg), acc)\n",
    "    return ...(acc) \n",
    "\n",
    "@typecheck \n",
    "def largest_grant_sector(locg: List[CommunityGrant]) -> str:\n",
    "    \"\"\"\n",
    "    returns the name of the sector that received the largest grant in locg. If two or more are tied, returns the first one.\n",
    "    ASSUME: the input list is not empty\n",
    "    \"\"\"\n",
    "    # return \"\" # stub\n",
    "    # template copied from List[CommunityGrant]\n",
    "    # holds the community grant that received the largest grant so far. Starts with the first item in the list.\n",
    "    acc = locg[0] # type: CommunityGrant\n",
    "    for cg in locg:\n",
    "        if largest_grant(cg, acc):\n",
    "            acc = cg        \n",
    "    return acc.sec\n",
    "\n",
    "@typecheck\n",
    "def largest_grant(cg1:CommunityGrant, cg2:CommunityGrant) -> bool:\n",
    "    \"\"\"\n",
    "    returns True if cg1 received a larger grant than cg2, False otherwise.\n",
    "    \"\"\"\n",
    "    # template copied from Community Grant\n",
    "    return cg1.amt > cg2.amt\n",
    "\n",
    "start_testing()\n",
    "expect(largest_grant_sector(L1), \"Arts and Culture\")\n",
    "expect(largest_grant_sector(L2), \"Sport\")\n",
    "expect(largest_grant_sector(L3), \"Arts and Culture\")      \n",
    "expect(largest_grant(AGRIFAIR, BMX), True)\n",
    "expect(largest_grant(FALCONS, AIRSHOW), False)\n",
    "summary()             \n"
   ]
  },
  {
   "cell_type": "code",
   "execution_count": null,
   "metadata": {
    "deletable": false,
    "editable": false
   },
   "outputs": [],
   "source": [
    "# NOTE: You should not be able to edit this cell. Just run it to start the process of submiting your code.\n",
    "from cs103 import submit\n",
    "\n",
    "COURSE = 114182\n",
    "ASSIGNMENT = 1339133\n",
    "\n",
    "submit(COURSE, ASSIGNMENT)\n",
    "\n",
    "# If your submission fails when you run this cell, submit your work by downloading your files and \n",
    "# uploading them to Canvas. You can learn how on the page \"How to submit your Jupyter notebook\" on our \n",
    "# Canvas site."
   ]
  },
  {
   "cell_type": "code",
   "execution_count": null,
   "metadata": {},
   "outputs": [],
   "source": []
  }
 ],
 "metadata": {
  "celltoolbar": "Edit Metadata",
  "kernelspec": {
   "display_name": "Python 3 (ipykernel)",
   "language": "python",
   "name": "python3"
  },
  "language_info": {
   "codemirror_mode": {
    "name": "ipython",
    "version": 3
   },
   "file_extension": ".py",
   "mimetype": "text/x-python",
   "name": "python",
   "nbconvert_exporter": "python",
   "pygments_lexer": "ipython3",
   "version": "3.10.9"
  }
 },
 "nbformat": 4,
 "nbformat_minor": 4
}
